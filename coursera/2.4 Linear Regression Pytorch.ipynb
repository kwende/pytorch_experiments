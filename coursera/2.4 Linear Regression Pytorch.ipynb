{
 "cells": [
  {
   "cell_type": "code",
   "execution_count": 5,
   "id": "f9ab713e",
   "metadata": {},
   "outputs": [],
   "source": [
    "import torch\n",
    "w = torch.tensor(-10.0, requires_grad=True)\n",
    "\n",
    "# the following takes the data from -3 -> 3, with step of .1 (60 elements) and reshapes it into a \n",
    "# block of data with -1 rows (unknown) and 1 column. This means we're shaping it into a block of data\n",
    "# with 60 rows, and one column based on inference. \n",
    "X = torch.arange(-3,3,.1).view(-1,1)"
   ]
  },
  {
   "cell_type": "code",
   "execution_count": 6,
   "id": "fec966d7",
   "metadata": {},
   "outputs": [
    {
     "data": {
      "text/plain": [
       "tensor([[-3.0000e+00],\n",
       "        [-2.9000e+00],\n",
       "        [-2.8000e+00],\n",
       "        [-2.7000e+00],\n",
       "        [-2.6000e+00],\n",
       "        [-2.5000e+00],\n",
       "        [-2.4000e+00],\n",
       "        [-2.3000e+00],\n",
       "        [-2.2000e+00],\n",
       "        [-2.1000e+00],\n",
       "        [-2.0000e+00],\n",
       "        [-1.9000e+00],\n",
       "        [-1.8000e+00],\n",
       "        [-1.7000e+00],\n",
       "        [-1.6000e+00],\n",
       "        [-1.5000e+00],\n",
       "        [-1.4000e+00],\n",
       "        [-1.3000e+00],\n",
       "        [-1.2000e+00],\n",
       "        [-1.1000e+00],\n",
       "        [-1.0000e+00],\n",
       "        [-9.0000e-01],\n",
       "        [-8.0000e-01],\n",
       "        [-7.0000e-01],\n",
       "        [-6.0000e-01],\n",
       "        [-5.0000e-01],\n",
       "        [-4.0000e-01],\n",
       "        [-3.0000e-01],\n",
       "        [-2.0000e-01],\n",
       "        [-1.0000e-01],\n",
       "        [-2.3842e-08],\n",
       "        [ 1.0000e-01],\n",
       "        [ 2.0000e-01],\n",
       "        [ 3.0000e-01],\n",
       "        [ 4.0000e-01],\n",
       "        [ 5.0000e-01],\n",
       "        [ 6.0000e-01],\n",
       "        [ 7.0000e-01],\n",
       "        [ 8.0000e-01],\n",
       "        [ 9.0000e-01],\n",
       "        [ 1.0000e+00],\n",
       "        [ 1.1000e+00],\n",
       "        [ 1.2000e+00],\n",
       "        [ 1.3000e+00],\n",
       "        [ 1.4000e+00],\n",
       "        [ 1.5000e+00],\n",
       "        [ 1.6000e+00],\n",
       "        [ 1.7000e+00],\n",
       "        [ 1.8000e+00],\n",
       "        [ 1.9000e+00],\n",
       "        [ 2.0000e+00],\n",
       "        [ 2.1000e+00],\n",
       "        [ 2.2000e+00],\n",
       "        [ 2.3000e+00],\n",
       "        [ 2.4000e+00],\n",
       "        [ 2.5000e+00],\n",
       "        [ 2.6000e+00],\n",
       "        [ 2.7000e+00],\n",
       "        [ 2.8000e+00],\n",
       "        [ 2.9000e+00]])"
      ]
     },
     "execution_count": 6,
     "metadata": {},
     "output_type": "execute_result"
    }
   ],
   "source": [
    "X"
   ]
  },
  {
   "cell_type": "code",
   "execution_count": null,
   "id": "4f69454e",
   "metadata": {},
   "outputs": [],
   "source": []
  }
 ],
 "metadata": {
  "kernelspec": {
   "display_name": "Python 3 (ipykernel)",
   "language": "python",
   "name": "python3"
  },
  "language_info": {
   "codemirror_mode": {
    "name": "ipython",
    "version": 3
   },
   "file_extension": ".py",
   "mimetype": "text/x-python",
   "name": "python",
   "nbconvert_exporter": "python",
   "pygments_lexer": "ipython3",
   "version": "3.8.10"
  }
 },
 "nbformat": 4,
 "nbformat_minor": 5
}
