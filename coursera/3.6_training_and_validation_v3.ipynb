{
 "cells": [
  {
   "cell_type": "markdown",
   "id": "88fae570-9f0a-4514-b16c-6c6ac06ddebc",
   "metadata": {},
   "source": [
    "<p style=\"text-align:center\">\n",
    "    <a href=\"https://skills.network/?utm_medium=Exinfluencer&utm_source=Exinfluencer&utm_content=000026UJ&utm_term=10006555&utm_id=NA-SkillsNetwork-Channel-SkillsNetworkCoursesIBMDeveloperSkillsNetworkDL0110ENSkillsNetwork952-2022-01-01\" target=\"_blank\">\n",
    "    <img src=\"https://cf-courses-data.s3.us.cloud-object-storage.appdomain.cloud/assets/logos/SN_web_lightmode.png\" width=\"200\" alt=\"Skills Network Logo\"  />\n",
    "    </a>\n",
    "</p>\n"
   ]
  },
  {
   "cell_type": "markdown",
   "id": "09379200-8017-4f0a-82b4-500d13ec5a1e",
   "metadata": {},
   "source": [
    "<h1>Linear regression: Training and Validation Data</h1> \n"
   ]
  },
  {
   "cell_type": "markdown",
   "id": "5e11e2f5-11af-4b86-93be-f247599ae8c7",
   "metadata": {},
   "source": [
    "<h2>Objective</h2><ul><li> How to use learning rate hyperparameter to improve your model result.  .</li></ul> \n"
   ]
  },
  {
   "cell_type": "markdown",
   "id": "87f816f3-e755-4b74-a031-8b54c6e6814a",
   "metadata": {},
   "source": [
    "<h2>Table of Contents</h2>\n",
    "<p>In this lab, you will learn to select the best learning rate by using validation data.</p>\n",
    "\n",
    "<ul>\n",
    "    <li><a href=\"#Makeup_Data\">Make Some Data</a></li>\n",
    "    <li><a href=\"#LR_Loader_Cost\">Create a Linear Regression Object, Data Loader and Criterion Function</a></li>\n",
    "    <li><a href=\"#LR_Hyper\">Different learning rates and Data Structures to Store results for Different Hyperparameters</a></li>\n",
    "    <li><a href=\"#Model\">Train different modules for different Hyperparameters</a></li>\n",
    "    <li><a href=\"#Result\">View Results</a></li>\n",
    "</ul>\n",
    "\n",
    "<p>Estimated Time Needed: <strong>30 min</strong></p>\n",
    "\n",
    "<hr>\n"
   ]
  },
  {
   "cell_type": "markdown",
   "id": "f4ee7263-bf2e-4074-a80a-c2308e7ba9a1",
   "metadata": {},
   "source": [
    "<h2>Preparation</h2>\n"
   ]
  },
  {
   "cell_type": "markdown",
   "id": "ab91a450-308f-4d83-8205-4234270892f8",
   "metadata": {},
   "source": [
    "We'll need the following libraries and set the random seed.\n"
   ]
  },
  {
   "cell_type": "code",
   "execution_count": 1,
   "id": "45867523-e959-4ca8-874b-daa7f84a1673",
   "metadata": {},
   "outputs": [],
   "source": [
    "# Import libraries we need for this lab, and set the random seed\n",
    "\n",
    "from torch import nn\n",
    "import torch\n",
    "import numpy as np\n",
    "import matplotlib.pyplot as plt\n",
    "from torch import nn,optim"
   ]
  },
  {
   "cell_type": "markdown",
   "id": "70b9b10a-cfdc-4a15-9cb0-282c07b71009",
   "metadata": {},
   "source": [
    "<!--Empty Space for separating topics-->\n"
   ]
  },
  {
   "cell_type": "markdown",
   "id": "259d0c08-2c9b-42b7-a652-061c3931a148",
   "metadata": {},
   "source": [
    "<h2 id=\"Makeup_Data\">Make Some Data</h2>\n"
   ]
  },
  {
   "cell_type": "markdown",
   "id": "bacaef0f-38a5-4915-aa6b-8d73ab1b7dad",
   "metadata": {},
   "source": [
    "First, we'll create some artificial data in a dataset class. The class will include the option to produce training data or validation data. The training data will include outliers.\n"
   ]
  },
  {
   "cell_type": "code",
   "execution_count": 2,
   "id": "abd23af9-b7c7-4e8c-a1fe-204aea601878",
   "metadata": {},
   "outputs": [],
   "source": [
    "# Create Data class\n",
    "\n",
    "from torch.utils.data import Dataset, DataLoader\n",
    "\n",
    "class Data(Dataset):\n",
    "    \n",
    "    # Constructor\n",
    "    def __init__(self, train = True):\n",
    "            self.x = torch.arange(-3, 3, 0.1).view(-1, 1)\n",
    "            self.f = -3 * self.x + 1\n",
    "            self.y = self.f + 0.1 * torch.randn(self.x.size())\n",
    "            self.len = self.x.shape[0]\n",
    "            \n",
    "            #outliers \n",
    "            if train == True:\n",
    "                self.y[0] = 0\n",
    "                self.y[50:55] = 20\n",
    "            else:\n",
    "                pass\n",
    "      \n",
    "    # Getter\n",
    "    def __getitem__(self, index):    \n",
    "        return self.x[index], self.y[index]\n",
    "    \n",
    "    # Get Length\n",
    "    def __len__(self):\n",
    "        return self.len"
   ]
  },
  {
   "cell_type": "markdown",
   "id": "b7f0c5f8-5f0f-4b7d-8b4a-d60148d7ae35",
   "metadata": {},
   "source": [
    "Create two objects: one that contains training data and a second that contains validation data. Assume that the training data has the outliers. \n"
   ]
  },
  {
   "cell_type": "code",
   "execution_count": 3,
   "id": "394479e0-f45f-46ed-b236-4ef83c36d73e",
   "metadata": {},
   "outputs": [],
   "source": [
    "# Create training dataset and validation dataset\n",
    "\n",
    "train_data = Data()\n",
    "val_data = Data(train = False)"
   ]
  },
  {
   "cell_type": "markdown",
   "id": "04088b99-193c-4966-8e53-96d945bd947c",
   "metadata": {},
   "source": [
    "Overlay the training points in red over the function that generated the data. Notice the outliers at x=-3 and around x=2:\n"
   ]
  },
  {
   "cell_type": "code",
   "execution_count": 4,
   "id": "958ca4e6-fc02-4790-8b2a-0f34f734a24a",
   "metadata": {},
   "outputs": [
    {
     "data": {
      "image/png": "[encoded data removed]",
      "text/plain": [
       "<Figure size 640x480 with 1 Axes>"
      ]
     },
     "metadata": {},
     "output_type": "display_data"
    }
   ],
   "source": [
    "# Plot out training points\n",
    "\n",
    "plt.plot(train_data.x.numpy(), train_data.y.numpy(), 'xr',label=\"training data \")\n",
    "plt.plot(train_data.x.numpy(), train_data.f.numpy(),label=\"true function  \")\n",
    "plt.xlabel('x')\n",
    "plt.ylabel('y')\n",
    "plt.legend()\n",
    "plt.show()"
   ]
  },
  {
   "cell_type": "markdown",
   "id": "6ab6cffe-b74c-4781-af35-c673e48a58b8",
   "metadata": {},
   "source": [
    "<!--Empty Space for separating topics-->\n"
   ]
  },
  {
   "cell_type": "markdown",
   "id": "308aa4fe-82c4-4a43-8861-17bf58474ee2",
   "metadata": {},
   "source": [
    "<h2 id=\"LR_Loader_Cost\">Create a Linear Regression Object,  Data Loader, and Criterion Function</h2>\n"
   ]
  },
  {
   "cell_type": "code",
   "execution_count": 8,
   "id": "a26c4f48-dfce-4d31-9cdb-d290b00c439a",
   "metadata": {},
   "outputs": [],
   "source": [
    "# Create Linear Regression Class\n",
    "\n",
    "from torch import nn\n",
    "\n",
    "class linear_regression(nn.Module):\n",
    "    \n",
    "    # Constructor\n",
    "    def __init__(self, input_size, output_size):\n",
    "        super(linear_regression, self).__init__()\n",
    "        self.linear = nn.Linear(input_size, output_size)\n",
    "    \n",
    "    # Prediction function\n",
    "    def forward(self, x):\n",
    "        yhat = self.linear(x)\n",
    "        return yhat"
   ]
  },
  {
   "cell_type": "markdown",
   "id": "8594772a-9b36-4264-a650-8c7841dbd34b",
   "metadata": {},
   "source": [
    "Create the criterion function and a <code>DataLoader</code> object: \n"
   ]
  },
  {
   "cell_type": "code",
   "execution_count": 9,
   "id": "75b20b36-e5a5-420d-bc26-fc5806a0e51f",
   "metadata": {},
   "outputs": [],
   "source": [
    "# Create MSELoss function and DataLoader\n",
    "\n",
    "criterion = nn.MSELoss()\n",
    "trainloader = DataLoader(dataset = train_data, batch_size = 1)"
   ]
  },
  {
   "cell_type": "markdown",
   "id": "949fb37e-96d4-424e-a2f4-2251c14a133f",
   "metadata": {},
   "source": [
    "<!--Empty Space for separating topics-->\n"
   ]
  },
  {
   "cell_type": "markdown",
   "id": "44da1f92-d8f0-47df-8682-71fc1a965394",
   "metadata": {},
   "source": [
    "<h2 id=\"LR_Hyper\">Different learning rates and Data Structures to Store results for different Hyperparameters</h2>\n"
   ]
  },
  {
   "cell_type": "markdown",
   "id": "50ea42fe-74f4-4e70-851a-73c0338234ba",
   "metadata": {},
   "source": [
    "Create a list with different learning rates and a tensor (can be a list) for the training and validating cost/total loss. Include the list MODELS, which stores the training model for every value of the learning rate. \n"
   ]
  },
  {
   "cell_type": "code",
   "execution_count": 10,
   "id": "3472ccb2-53ad-412e-ab9c-86a77bcdd3ab",
   "metadata": {},
   "outputs": [],
   "source": [
    "# Create Learning Rate list, the error lists and the MODELS list\n",
    "\n",
    "learning_rates=[0.0001, 0.001, 0.01, 0.1]\n",
    "\n",
    "train_error=torch.zeros(len(learning_rates))\n",
    "validation_error=torch.zeros(len(learning_rates))\n",
    "\n",
    "MODELS=[]"
   ]
  },
  {
   "cell_type": "markdown",
   "id": "d34ee3c4-1236-4de8-b569-a1c411c36fa2",
   "metadata": {},
   "source": [
    "<!--Empty Space for separating topics-->\n"
   ]
  },
  {
   "cell_type": "markdown",
   "id": "06236d30-bffa-4780-9974-ea6f98bafe5b",
   "metadata": {},
   "source": [
    "<h2 id=\"Model\">Train different models  for different Hyperparameters</h2>\n"
   ]
  },
  {
   "cell_type": "markdown",
   "id": "20389722-964b-4cd9-b1b7-777c9319a78e",
   "metadata": {},
   "source": [
    "Try different values of learning rates, perform stochastic gradient descent, and save the results on the training data and validation data. Finally, save each model in a list.\n"
   ]
  },
  {
   "cell_type": "code",
   "execution_count": 11,
   "id": "09820a32-6b27-400e-a932-263e1d30553a",
   "metadata": {},
   "outputs": [],
   "source": [
    "# Define the train model function and train the model\n",
    "\n",
    "def train_model_with_lr (iter, lr_list):\n",
    "    \n",
    "    # iterate through different learning rates \n",
    "    for i, lr in enumerate(lr_list):\n",
    "        model = linear_regression(1, 1)\n",
    "        optimizer = optim.SGD(model.parameters(), lr = lr)\n",
    "        for epoch in range(iter):\n",
    "            for x, y in trainloader:\n",
    "                yhat = model(x)\n",
    "                loss = criterion(yhat, y)\n",
    "                optimizer.zero_grad()\n",
    "                loss.backward()\n",
    "                optimizer.step()\n",
    "                \n",
    "        # train data\n",
    "        Yhat = model(train_data.x)\n",
    "        train_loss = criterion(Yhat, train_data.y)\n",
    "        train_error[i] = train_loss.item()\n",
    "    \n",
    "        # validation data\n",
    "        Yhat = model(val_data.x)\n",
    "        val_loss = criterion(Yhat, val_data.y)\n",
    "        validation_error[i] = val_loss.item()\n",
    "        MODELS.append(model)\n",
    "\n",
    "train_model_with_lr(10, learning_rates)"
   ]
  },
  {
   "cell_type": "markdown",
   "id": "e6f9fea2-5242-44bb-bbbb-36cc4f134960",
   "metadata": {},
   "source": [
    "<!--Empty Space for separating topics-->\n"
   ]
  },
  {
   "cell_type": "markdown",
   "id": "2bf8ac51-11fb-46cd-acf0-ccd0f45c420a",
   "metadata": {},
   "source": [
    "<h2 id=\"Result\">View the Results</h2>\n"
   ]
  },
  {
   "cell_type": "markdown",
   "id": "dc0ab84e-1a29-47e2-8cfb-80a7eeb48c0d",
   "metadata": {},
   "source": [
    "Plot the training loss and validation loss for each learning rate:  \n"
   ]
  },
  {
   "cell_type": "code",
   "execution_count": 12,
   "id": "713b12aa-fdec-4e7b-911e-bce003565ee2",
   "metadata": {},
   "outputs": [
    {
     "data": {
      "image/png": "[encoded data removed]",
      "text/plain": [
       "<Figure size 640x480 with 1 Axes>"
      ]
     },
     "metadata": {},
     "output_type": "display_data"
    }
   ],
   "source": [
    "# Plot the training loss and validation loss\n",
    "\n",
    "plt.semilogx(np.array(learning_rates), train_error.numpy(), label = 'training loss/total Loss')\n",
    "plt.semilogx(np.array(learning_rates), validation_error.numpy(), label = 'validation cost/total Loss')\n",
    "plt.ylabel('Cost\\ Total Loss')\n",
    "plt.xlabel('learning rate')\n",
    "plt.legend()\n",
    "plt.show()"
   ]
  },
  {
   "cell_type": "markdown",
   "id": "08a5c4dc-e353-4cdb-b71a-b0400a54ff03",
   "metadata": {},
   "source": [
    "Produce a prediction by using the validation data for each model:  \n"
   ]
  },
  {
   "cell_type": "code",
   "execution_count": 13,
   "id": "72b7b756-f886-4304-ac22-69829efd50e6",
   "metadata": {},
   "outputs": [
    {
     "name": "stdout",
     "output_type": "stream",
     "text": [
      "i [[2.51837  ]\n",
      " [2.4721773]\n",
      " [2.4259844]]\n",
      "i [[5.872289 ]\n",
      " [5.754487 ]\n",
      " [5.6366844]]\n",
      "i [[6.5767097]\n",
      " [6.442566 ]\n",
      " [6.308422 ]]\n",
      "i [[14.386963]\n",
      " [13.954144]\n",
      " [13.521324]]\n"
     ]
    },
    {
     "data": {
      "image/png": "[encoded data removed]",
      "text/plain": [
       "<Figure size 640x480 with 1 Axes>"
      ]
     },
     "metadata": {},
     "output_type": "display_data"
    }
   ],
   "source": [
    "# Plot the predictions\n",
    "\n",
    "i = 0\n",
    "for model, learning_rate in zip(MODELS, learning_rates):\n",
    "    yhat = model(val_data.x)\n",
    "    plt.plot(val_data.x.numpy(), yhat.detach().numpy(), label = 'lr:' + str(learning_rate))\n",
    "    print('i', yhat.detach().numpy()[0:3])\n",
    "plt.plot(val_data.x.numpy(), val_data.f.numpy(), 'or', label = 'validation data')\n",
    "plt.xlabel('x')\n",
    "plt.ylabel('y')\n",
    "plt.legend()\n",
    "plt.show()"
   ]
  },
  {
   "cell_type": "markdown",
   "id": "f1c2675a-f1bf-4c15-985d-403d18093b02",
   "metadata": {},
   "source": [
    "<!--Empty Space for separating topics-->\n"
   ]
  },
  {
   "cell_type": "markdown",
   "id": "8d198db5-11c1-4158-a173-861577330992",
   "metadata": {},
   "source": [
    "<h3>Practice</h3>\n"
   ]
  },
  {
   "cell_type": "markdown",
   "id": "d403fb2a-e09f-4eb1-98f9-7f637b84ccbe",
   "metadata": {},
   "source": [
    "The object <code>good_model</code> is the best performing model. Use the train loader to get the data samples x and y. Produce an estimate for <code>yhat</code> and print it out for every sample in a for a loop. Compare it to the actual prediction <code>y</code>.\n"
   ]
  },
  {
   "cell_type": "code",
   "execution_count": 24,
   "metadata": {},
   "outputs": [
    {
     "name": "stdout",
     "output_type": "stream",
     "text": [
      "6.576709747314453; difference is 6.576709747314453\n",
      "6.44256591796875; difference is 3.3553123474121094\n",
      "6.308422088623047; difference is 3.2718706130981445\n",
      "6.174278259277344; difference is 2.74857234954834\n",
      "6.040133953094482; difference is 2.6928162574768066\n",
      "5.905990123748779; difference is 2.590149402618408\n",
      "5.771846771240234; difference is 2.5654897689819336\n",
      "5.637702465057373; difference is 2.4476122856140137\n",
      "5.50355863571167; difference is 2.13508939743042\n",
      "5.369415283203125; difference is 1.9892420768737793\n",
      "5.235270977020264; difference is 1.74784517288208\n",
      "5.1011271476745605; difference is 1.5651659965515137\n",
      "4.966983318328857; difference is 1.5768566131591797\n",
      "4.832839488983154; difference is 1.1021418571472168\n",
      "4.698695659637451; difference is 1.1530942916870117\n",
      "4.564551830291748; difference is 0.8151111602783203\n",
      "4.430408000946045; difference is 0.6706647872924805\n",
      "4.296263694763184; difference is 0.5745577812194824\n",
      "4.1621198654174805; difference is 0.3536505699157715\n",
      "4.027976036071777; difference is 0.18271112442016602\n",
      "3.8938324451446533; difference is 0.04303312301635742\n",
      "3.75968861579895; difference is 0.08222675323486328\n",
      "3.625544548034668; difference is 0.25550246238708496\n",
      "3.491400957107544; difference is 0.5214354991912842\n",
      "3.357257127761841; difference is 0.5669999122619629\n",
      "3.2231130599975586; difference is 0.7841434478759766\n",
      "3.0889692306518555; difference is 0.7186954021453857\n",
      "2.9548254013061523; difference is 1.1340323686599731\n",
      "2.820681571960449; difference is 1.2246400117874146\n",
      "2.686537742614746; difference is 1.4130375385284424\n",
      "2.552393913269043; difference is 1.5538328886032104\n",
      "2.41825008392334; difference is 1.845862627029419\n",
      "2.2841062545776367; difference is 1.9766030311584473\n",
      "2.1499624252319336; difference is 2.1006132066249847\n",
      "2.0158185958862305; difference is 2.262482315301895\n",
      "1.8816746473312378; difference is 2.2915299832820892\n",
      "1.7475306987762451; difference is 2.5362080931663513\n",
      "1.613386869430542; difference is 2.6828253269195557\n",
      "1.4792430400848389; difference is 2.7150003910064697\n",
      "1.3450992107391357; difference is 3.2849276065826416\n",
      "1.2109553813934326; difference is 3.219348907470703\n",
      "1.0768115520477295; difference is 3.442798137664795\n",
      "0.9426676034927368; difference is 3.646935820579529\n",
      "0.8085238933563232; difference is 3.8275723457336426\n",
      "0.6743799448013306; difference is 3.7600568532943726\n",
      "0.5402359962463379; difference is 4.068516492843628\n",
      "0.40609216690063477; difference is 4.147812843322754\n",
      "0.27194833755493164; difference is 4.486616134643555\n",
      "0.13780450820922852; difference is 4.615612983703613\n",
      "0.0036606788635253906; difference is 4.663716793060303\n",
      "-0.13048315048217773; difference is 20.130483150482178\n",
      "-0.26462697982788086; difference is 20.26462697982788\n",
      "-0.398770809173584; difference is 20.398770809173584\n",
      "-0.5329146385192871; difference is 20.532914638519287\n",
      "-0.6670587062835693; difference is 20.66705870628357\n",
      "-0.8012022972106934; difference is 5.688627243041992\n",
      "-0.9353461265563965; difference is 5.8411431312561035\n",
      "-1.0694901943206787; difference is 5.951812028884888\n",
      "-1.2036340236663818; difference is 6.218976259231567\n",
      "-1.337777853012085; difference is 6.45754075050354\n"
     ]
    }
   ],
   "source": [
    "i = train_error.numpy().argmin()\n",
    "good_model = MODELS[i]\n",
    "\n",
    "for x, y in trainloader:\n",
    "    yhat = good_model(x)\n",
    "    print(f\"{yhat.item()}; difference is {abs(yhat.item() - y.item())}\")"
   ]
  },
  {
   "cell_type": "markdown",
   "id": "989ac637-44a5-4ab5-ac50-cff19845737c",
   "metadata": {},
   "source": [
    "Double-click <b>here</b> for the solution.\n",
    "\n",
    "<!-- \n",
    "for x, y in trainloader:\n",
    "    print(\"yhat= \", good_model(x),\"y\", y)\n",
    "-->\n"
   ]
  },
  {
   "cell_type": "markdown",
   "id": "25413e05-54ea-498e-ba7b-6035810c36b6",
   "metadata": {},
   "source": [
    "\n",
    "\n",
    "<a href=\"https://dataplatform.cloud.ibm.com/registration/stepone?utm_medium=Exinfluencer&utm_source=Exinfluencer&utm_content=000026UJ&utm_term=10006555&utm_id=NA-SkillsNetwork-Channel-SkillsNetworkCoursesIBMDeveloperSkillsNetworkDL0110ENSkillsNetwork952-2022-01-01&context=cpdaas&apps=data_science_experience%2Cwatson_machine_learning\"><img src=\"https://cf-courses-data.s3.us.cloud-object-storage.appdomain.cloud/IBMDeveloperSkillsNetwork-DL0110EN-SkillsNetwork/Template/module%201/images/Watson_Studio.png\"></a>\n"
   ]
  },
  {
   "cell_type": "markdown",
   "id": "68373361-3427-42f2-a53d-da8f614f71aa",
   "metadata": {},
   "source": [
    "<!--Empty Space for separating topics-->\n"
   ]
  },
  {
   "cell_type": "markdown",
   "id": "ef150606-d554-424f-825a-72f0354b9753",
   "metadata": {},
   "source": [
    "<h2>About the Authors:</h2> \n",
    "\n",
    "<a href=\"https://www.linkedin.com/in/joseph-s-50398b136/?utm_medium=Exinfluencer&utm_source=Exinfluencer&utm_content=000026UJ&utm_term=10006555&utm_id=NA-SkillsNetwork-Channel-SkillsNetworkCoursesIBMDeveloperSkillsNetworkDL0110ENSkillsNetwork952-2022-01-01\">Joseph Santarcangelo</a> has a PhD in Electrical Engineering, his research focused on using machine learning, signal processing, and computer vision to determine how videos impact human cognition. Joseph has been working for IBM since he completed his PhD. \n"
   ]
  },
  {
   "cell_type": "markdown",
   "id": "1943ea15-b71d-412a-a3d5-6a77e49b7e53",
   "metadata": {},
   "source": [
    "Other contributors: <a href=\"https://www.linkedin.com/in/michelleccarey/?utm_medium=Exinfluencer&utm_source=Exinfluencer&utm_content=000026UJ&utm_term=10006555&utm_id=NA-SkillsNetwork-Channel-SkillsNetworkCoursesIBMDeveloperSkillsNetworkDL0110ENSkillsNetwork952-2022-01-01\">Michelle Carey</a>, <a href=\"www.linkedin.com/in/jiahui-mavis-zhou-a4537814a\">Mavis Zhou</a>\n"
   ]
  },
  {
   "cell_type": "markdown",
   "id": "4b53cebd-a498-451f-8ef2-d77a54257a94",
   "metadata": {},
   "source": [
    "\n",
    "## Change Log\n",
    "\n",
    "|  Date (YYYY-MM-DD) |  Version | Changed By  |  Change Description |\n",
    "|---|---|---|---|\n",
    "| 2020-09-23  | 2.0  | Shubham  |  Migrated Lab to Markdown and added to course repo in GitLab |\n",
    "\n"
   ]
  },
  {
   "cell_type": "markdown",
   "id": "1e380beb-d41f-4daf-97cb-3d9d3b3184c9",
   "metadata": {},
   "source": [
    "<hr>\n"
   ]
  },
  {
   "cell_type": "markdown",
   "id": "a0428742-feaf-486a-8cd9-42a8e701c2b2",
   "metadata": {},
   "source": [
    "\n",
    "\n",
    "\n",
    "## <h3 align=\"center\"> © IBM Corporation 2020. All rights reserved. <h3/>\n"
   ]
  }
 ],
 "metadata": {
  "kernelspec": {
   "display_name": "Python 3 (ipykernel)",
   "language": "python",
   "name": "python3"
  },
  "language_info": {
   "codemirror_mode": {
    "name": "ipython",
    "version": 3
   },
   "file_extension": ".py",
   "mimetype": "text/x-python",
   "name": "python",
   "nbconvert_exporter": "python",
   "pygments_lexer": "ipython3",
   "version": "3.8.10"
  }
 },
 "nbformat": 4,
 "nbformat_minor": 4
}
